{
 "cells": [
  {
   "cell_type": "markdown",
   "metadata": {},
   "source": [
    "# AS4PA: Final Project\n",
    "\n",
    "### Authors\n",
    "* [Ardino Rocco](https://github.com/RoccoA97) (University of Padua)\n",
    "* [Valente Alessandro](https://github.com/mastrovalentz) (University of Padua)"
   ]
  },
  {
   "cell_type": "markdown",
   "metadata": {},
   "source": [
    "# Index <a class=\"anchor\" id=\"FP.i\"></a>\n",
    "\n",
    "* 1. [Introduction](#AS4PA_FP.1.)\n",
    "* 2. [The Dataset](#AS4PA_FP.2.)\n",
    "    * 2.1. [LHCb dataset](#FP.2.1.)\n",
    "    * 2.2. [Background simulated dataset](#FP.2.2.)\n",
    "    * 2.3. [Signal simulated dataset](#FP.2.3.)"
   ]
  },
  {
   "cell_type": "markdown",
   "metadata": {},
   "source": [
    "## 1. - Introduction <a class=\"anchor\" id=\"AS4PA_FP.1.\"></a>\n",
    "* [Index](#FP.i)"
   ]
  },
  {
   "cell_type": "markdown",
   "metadata": {},
   "source": [
    "This is the report for the final project of Advanced Statistics for Physics Analysis course (A.Y. 2019/20).\n",
    "\n",
    "The object of study is a classical problem of signal over background recognition, but we try to tackle this task through a machine learning approach. In particular, we exploit the power of Neural Networks for our purpose and we perform several grid searches to optimize the hyperparameters of the network.\n",
    "\n",
    "Concerning the physical problem under study, we use as a benchmark the rare decay of $\\Lambda_b^0$ baryon. Its decay channel into a $\\Lambda_c^+$ baryon and three pions\n",
    "\n",
    "$$\n",
    "\\Lambda_b^0\n",
    "\\longrightarrow\n",
    "\\Lambda_c^+ 3\\pi\n",
    "$$\n",
    "\n",
    "has never been observed. This choice is due to the fact that it is a fundamental ingredient for the studies of lepton universality in semileptonic $\\Lambda_b^0$ decays. So, a sample of LHCb is taken into account, with multiple observables useful for discriminating signal from background events.\n",
    "\n",
    "In summary, our main concerns will be:\n",
    "* before going on with the learning algorithms, the visualization of the features for both signal and background datasets, in order to find which are the ones with greater discriminating power;\n",
    "* the construction of the Neural Network and of the learning algorithm in R;\n",
    "* optimizing the disciminating power of the trained Network by tuning the hyperparameters, such as the numbers of neuron and layers, the optimizer, the regularizers and some other learning stuff;\n",
    "* testing the performances of the trained and tuned Network on a dataset from LHCb collaboration."
   ]
  },
  {
   "cell_type": "markdown",
   "metadata": {},
   "source": [
    "## 2. - The Dataset <a class=\"anchor\" id=\"AS4PA_FP.2.\"></a>\n",
    "* [Index](#FP.i)"
   ]
  },
  {
   "cell_type": "markdown",
   "metadata": {},
   "source": [
    "### 2.1. - LHCb dataset <a class=\"anchor\" id=\"AS4PA_FP.2.1.\"></a>\n",
    "* [Index](#FP.i)"
   ]
  },
  {
   "cell_type": "markdown",
   "metadata": {},
   "source": [
    "### 2.2. - Background simulated dataset <a class=\"anchor\" id=\"AS4PA_FP.2.2.\"></a>\n",
    "* [Index](#FP.i)"
   ]
  },
  {
   "cell_type": "markdown",
   "metadata": {},
   "source": [
    "### 2.3. - Signal simulated dataset <a class=\"anchor\" id=\"AS4PA_FP.2.3.\"></a>\n",
    "* [Index](#FP.i)"
   ]
  }
 ],
 "metadata": {
  "kernelspec": {
   "display_name": "R",
   "language": "R",
   "name": "ir"
  },
  "language_info": {
   "codemirror_mode": "r",
   "file_extension": ".r",
   "mimetype": "text/x-r-source",
   "name": "R",
   "pygments_lexer": "r",
   "version": "3.6.3"
  }
 },
 "nbformat": 4,
 "nbformat_minor": 4
}
