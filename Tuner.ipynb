{
 "cells": [
  {
   "cell_type": "code",
   "execution_count": 2,
   "metadata": {},
   "outputs": [],
   "source": [
    "library('keras')\n",
    "mnist <- dataset_mnist()\n",
    "\n",
    "x_train <- mnist$train$x[1:800,1:28 ,1:28 ]\n",
    "y_train <- mnist$train$y[1:800 ]\n",
    "x_test  <- mnist$test$x[801:1000,1:28 ,1:28]\n",
    "y_test  <- mnist$test$y[801:1000]\n",
    "x_train <- array_reshape(x_train, c(nrow(x_train), 784))\n",
    "x_test <- array_reshape(x_test, c(nrow(x_test), 784))\n",
    "# rescale\n",
    "x_train <- x_train / 255\n",
    "x_test <- x_test / 255\n",
    "\n",
    "y_train <- to_categorical(y_train, 10)\n",
    "y_test <- to_categorical(y_test, 10)"
   ]
  },
  {
   "cell_type": "code",
   "execution_count": 3,
   "metadata": {},
   "outputs": [],
   "source": [
    "cv_tune_builder <- function (builder, params, x, y, cv=4){\n",
    "    l=as.integer(nrow(x)/cv)\n",
    "    accs <- NULL\n",
    "    for(i in 0:(cv-1)){\n",
    "        x_tr <- x[-(i*l+1):-(l*(i+1)),]; x_cv <- x[(i*l+1):(l*(i+1)),]; \n",
    "        y_tr <- y[-(i*l+1):-(l*(i+1)),]; y_cv <- y[(i*l+1):(l*(i+1)),];\n",
    "        model <- builder(params)\n",
    "        hist  <- model %>% fit (x_tr, y_tr,  epochs = 30, batch_size = 128)\n",
    "        stats <- model %>% evaluate(x_cv, y_cv)\n",
    "        accs <- c(accs, stats[[2]])\n",
    "    }\n",
    "    return (accs)\n",
    "}\n",
    "\n",
    "\n",
    "tune_builder <- function(builder, par_default, par_list, x, y, cv=4, verbose=FALSE){\n",
    "    grid = expand.grid(par_list)\n",
    "    mean_accs <- NULL\n",
    "    best_acc <- 0.0\n",
    "    par_best <- rlang::duplicate(par_default, shallow=FALSE)\n",
    "    for(i in 1:nrow(grid)){\n",
    "        par_copy <- rlang::duplicate(par_default, shallow=FALSE)\n",
    "        for (name in names(par_list)){\n",
    "            par_copy[[name]] <- grid[[name]][i]\n",
    "        }\n",
    "        acc <- cv_tune_builder(builder, par_copy, x, y, cv)\n",
    "        mean_accs <- c(mean_accs, mean(acc))\n",
    "        if(verbose){\n",
    "            print(\"Parameters: \")\n",
    "            print(par_copy)\n",
    "            print(\"Accuracies:\")\n",
    "            print(acc)\n",
    "            print(paste(\"Mean: \", mean(acc)))\n",
    "        }\n",
    "        if (mean(acc)>best_acc){\n",
    "            best_acc <- mean(acc)\n",
    "            par_best <- rlang::duplicate(par_copy, shallow=FALSE)\n",
    "        }        \n",
    "    }\n",
    "    if(verbose){\n",
    "        print(\"Best Parameters: \")\n",
    "        print(par_best)\n",
    "        print(paste(\"Accuracy:\", best_acc))\n",
    "    }\n",
    "    grid$Mean_acc <- mean_accs\n",
    "    #return(par_best)\n",
    "    return (grid)\n",
    "}"
   ]
  },
  {
   "cell_type": "code",
   "execution_count": 4,
   "metadata": {},
   "outputs": [],
   "source": [
    "build_model <- function(params){\n",
    "    model <- keras_model_sequential()\n",
    "    model %>%\n",
    "      layer_dense(units = params$unit1, activation = 'relu', input_shape = c(784)) %>%\n",
    "      layer_dropout(rate = params$dropout1) %>%\n",
    "      layer_dense(units = params$unit2, activation = 'relu') %>%\n",
    "      layer_dropout(rate = params$dropout2) %>%\n",
    "      layer_dense(units = params$unit3, activation = 'softmax')\n",
    "\n",
    "    model %>% compile(\n",
    "      loss = 'categorical_crossentropy',\n",
    "      optimizer = optimizer_rmsprop(),\n",
    "      metrics = c('accuracy')\n",
    "    )\n",
    "    return(model)\n",
    "}\n",
    "myParams <- flags(\n",
    "    flag_numeric(\"dropout1\", 0.4),\n",
    "    flag_numeric(\"dropout2\", 0.3),\n",
    "    flag_numeric(\"unit1\", 256),\n",
    "    flag_numeric(\"unit2\", 128),\n",
    "    flag_numeric(\"unit3\", 10)\n",
    ")"
   ]
  },
  {
   "cell_type": "code",
   "execution_count": 5,
   "metadata": {},
   "outputs": [
    {
     "name": "stdout",
     "output_type": "stream",
     "text": [
      "[1] \"Change\"\n",
      "[1] \"Change\"\n",
      "  dropout1 unit2 Mean_acc\n",
      "1      0.3   128  0.85375\n",
      "2      0.2   128  0.86500\n",
      "3      0.3    64  0.85875\n",
      "4      0.2    64  0.85375\n"
     ]
    }
   ],
   "source": [
    "myList <- list(dropout1= c(0.3, 0.2), \n",
    "               unit2=c (128, 64) )\n",
    "#myList <- list(dropout1= c(0.3), \n",
    "#               unit2=c (128) )\n",
    "\n",
    "tuned_grid <- tune_builder(build_model, myParams, myList, x_train, y_train, 4, FALSE )\n",
    "\n",
    "print(tuned_grid)"
   ]
  },
  {
   "cell_type": "code",
   "execution_count": null,
   "metadata": {},
   "outputs": [],
   "source": []
  }
 ],
 "metadata": {
  "kernelspec": {
   "display_name": "R",
   "language": "R",
   "name": "ir"
  },
  "language_info": {
   "codemirror_mode": "r",
   "file_extension": ".r",
   "mimetype": "text/x-r-source",
   "name": "R",
   "pygments_lexer": "r",
   "version": "3.6.1"
  }
 },
 "nbformat": 4,
 "nbformat_minor": 4
}
