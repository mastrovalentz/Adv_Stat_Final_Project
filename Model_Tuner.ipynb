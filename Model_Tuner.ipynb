{
 "cells": [
  {
   "cell_type": "code",
   "execution_count": 1,
   "metadata": {},
   "outputs": [],
   "source": [
    "library(keras)\n",
    "library(repr)"
   ]
  },
  {
   "cell_type": "code",
   "execution_count": 1,
   "metadata": {},
   "outputs": [],
   "source": [
    "library(keras)\n",
    "library(repr)"
   ]
  },
  {
   "cell_type": "code",
   "execution_count": 2,
   "metadata": {},
   "outputs": [],
   "source": [
    "data.bkg  <- read.csv(\"data/P_LHCB_LambdaB/background.csv\")\n",
    "data.sig  <- read.csv(\"data/P_LHCB_LambdaB/MC_signal.csv\")\n",
    "data.lhcb <- read.csv(\"data/P_LHCB_LambdaB/data_lhcb.csv\")"
   ]
  },
  {
   "cell_type": "code",
   "execution_count": 3,
   "metadata": {},
   "outputs": [],
   "source": [
    "data.cutted.bkg  <-  data.bkg  %>% dplyr::filter( (Lambda_b0_MM_F > 5550 &  Lambda_b0_MM_F < 5680 ) |  DeltaM_F < 360)\n",
    "data.cutted.sig  <-  data.sig  %>% dplyr::filter( (Lambda_b0_MM_F > 5550 &  Lambda_b0_MM_F < 5680 ) |  DeltaM_F < 360)\n",
    "data.cutted.lhcb <-  data.lhcb %>% dplyr::filter( (Lambda_b0_MM_F > 5550 &  Lambda_b0_MM_F < 5680 ) |  DeltaM_F < 360)"
   ]
  },
  {
   "cell_type": "code",
   "execution_count": 4,
   "metadata": {},
   "outputs": [],
   "source": [
    "# test set <- 400 sig 400 bkg\n",
    "\n",
    "sel_features <- c(3, 6, 7, 8, 9, 10, 11, 12, 14, 17, 18)\n",
    "nt_bkg <- 400; nt_sig <- 400\n",
    "\n",
    "x_test_bkg  <- as.matrix(data.bkg[1:nt_bkg, sel_features])\n",
    "x_test_sig  <- as.matrix(data.sig[1:nt_sig, sel_features])\n",
    "\n",
    "y_test_bkg  <- as.vector(matrix(0, nrow=nt_bkg, ncol=1))\n",
    "y_test_sig  <- as.vector(matrix(1, nrow=nt_sig, ncol=1))\n",
    "\n",
    "x_test  <- rbind(x_test_bkg  , x_test_sig  )\n",
    "y_test  <-     c(y_test_bkg  , y_test_sig  )\n",
    "\n",
    "x_test  <- scale(x_test )\n",
    "\n",
    "shuffle_test  <- sample(nrow(x_test ))\n",
    "x_test  <- x_test [shuffle_test,]\n",
    "y_test  <- y_test [shuffle_test] \n",
    "\n"
   ]
  },
  {
   "cell_type": "code",
   "execution_count": 5,
   "metadata": {},
   "outputs": [],
   "source": [
    "#training set, dimension give with function\n",
    "\n",
    "x_train_bkg_full <- as.matrix(data.bkg[-1:-nt_bkg, sel_features])\n",
    "x_train_sig_full <- as.matrix(data.sig[-1:-nt_sig, sel_features])\n",
    "\n",
    "y_train_bkg_full <- as.vector(matrix(0, nrow=nrow(x_train_bkg_full), ncol=1))\n",
    "y_train_sig_full <- as.vector(matrix(1, nrow=nrow(x_train_sig_full), ncol=1))\n",
    "\n",
    "get_train_data <- function(n_bkg, n_sig=1090 ){\n",
    "    x_bkg <- x_train_bkg_full[1:n_bkg, ]\n",
    "    x_sig <- x_train_sig_full[1:n_sig, ]\n",
    "    x_t   <- rbind(x_bkg, x_sig)\n",
    "    y_t   <- c(y_train_bkg_full[1:n_bkg], y_train_sig_full[1:n_sig])\n",
    "    sffl  <- sample(nrow(x_t))\n",
    "    \n",
    "    x_t   <- x_t[sffl,]\n",
    "    x_t   <- scale(x_t)\n",
    "    y_t   <- y_t[sffl] \n",
    "    return (list(x_train=x_t, y_train=y_t))\n",
    "}\n"
   ]
  },
  {
   "cell_type": "code",
   "execution_count": 6,
   "metadata": {},
   "outputs": [],
   "source": [
    "# lhcb data\n",
    "x_lhcb     <- as.matrix(       data.lhcb[, sel_features])\n",
    "x_cut_lhcb <- as.matrix(data.cutted.lhcb[, sel_features])\n",
    "\n",
    "x_lhcb     <- scale(x_lhcb)\n",
    "x_cut_lhcb <- scale(x_cut_lhcb)\n"
   ]
  },
  {
   "cell_type": "code",
   "execution_count": 7,
   "metadata": {},
   "outputs": [],
   "source": [
    "build_model <- function(params){\n",
    "    model <- keras_model_sequential()\n",
    "    model %>%\n",
    "      layer_dense(units = params$unit1, activation = 'relu', \n",
    "                  input_shape = c(params$nFeat), \n",
    "                  kernel_regularizer=regularizer_l1_l2(l1=params$l1_coeff, l2=params$l2_coeff)) %>%\n",
    "      layer_dropout(rate = params$dropout1) %>%\n",
    "      layer_dense(units = params$unit2, activation = 'relu',  \n",
    "                  kernel_regularizer=regularizer_l1_l2(l1=params$l1_coeff, l2=params$l2_coeff)) %>%\n",
    "      layer_dropout(rate = params$dropout2) %>%\n",
    "      layer_dense(units = params$unit3, activation = 'relu', \n",
    "                  kernel_regularizer=regularizer_l1_l2(l1=params$l1_coeff, l2=params$l2_coeff)) %>%\n",
    "      layer_dropout(rate = params$dropout3) %>%\n",
    "      layer_dense(units = 1, activation = 'sigmoid')\n",
    "\n",
    "    model %>% compile(\n",
    "      loss = 'binary_crossentropy',\n",
    "      optimizer = optimizer_rmsprop(),\n",
    "      metrics = c('accuracy')\n",
    "    )\n",
    "    return(model)\n",
    "}\n",
    "\n",
    "ModelParams <- flags(\n",
    "    flag_numeric(\"dropout1\", 0.1),\n",
    "    flag_numeric(\"dropout2\", 0.1),\n",
    "    flag_numeric(\"dropout3\", 0.1),\n",
    "    flag_numeric(\"unit1\", 128),\n",
    "    flag_numeric(\"unit2\", 64),\n",
    "    flag_numeric(\"unit3\", 32),\n",
    "    flag_numeric(\"nFeat\", length(sel_features)),\n",
    "    flag_numeric(\"l1_coeff\", 1e-4),\n",
    "    flag_numeric(\"l2_coeff\", 1e-5)\n",
    ")"
   ]
  },
  {
   "cell_type": "code",
   "execution_count": 13,
   "metadata": {},
   "outputs": [
    {
     "data": {
      "text/html": [
       "<dl class=dl-horizontal>\n",
       "\t<dt>loss</dt>\n",
       "\t\t<dd>0,487015068531036</dd>\n",
       "\t<dt>accuracy</dt>\n",
       "\t\t<dd>0,851249992847443</dd>\n",
       "</dl>\n"
      ],
      "text/latex": [
       "\\begin{description*}\n",
       "\\item[loss] 0,487015068531036\n",
       "\\item[accuracy] 0,851249992847443\n",
       "\\end{description*}\n"
      ],
      "text/markdown": [
       "loss\n",
       ":   0,487015068531036accuracy\n",
       ":   0,851249992847443\n",
       "\n"
      ],
      "text/plain": [
       "     loss  accuracy \n",
       "0,4870151 0,8512500 "
      ]
     },
     "metadata": {},
     "output_type": "display_data"
    },
    {
     "name": "stderr",
     "output_type": "stream",
     "text": [
      "`geom_smooth()` using formula 'y ~ x'\n"
     ]
    },
    {
     "data": {
      "image/png": "[encoded data removed]",
      "text/plain": [
       "plot without title"
      ]
     },
     "metadata": {},
     "output_type": "display_data"
    }
   ],
   "source": [
    "model <- build_model(ModelParams)\n",
    "data  <- get_train_data(1000) \n",
    "history  <- model %>% fit (data$x_train, data$y_train, verbose=2,\n",
    "                     epochs=20, batch_size=10, validation_split=0.2)\n",
    "model %>% evaluate(x_test, y_test)\n",
    "plot(history)"
   ]
  },
  {
   "cell_type": "code",
   "execution_count": 14,
   "metadata": {},
   "outputs": [],
   "source": [
    "save_model_hdf5(model, \"Models/Test/TestModel.hdf5\")"
   ]
  },
  {
   "cell_type": "code",
   "execution_count": 15,
   "metadata": {},
   "outputs": [],
   "source": [
    "y_cut_lhcb_pred <- model %>% predict(x_cut_lhcb)"
   ]
  },
  {
   "cell_type": "code",
   "execution_count": 20,
   "metadata": {},
   "outputs": [
    {
     "data": {
      "image/png": "[encoded data removed]",
      "text/plain": [
       "Plot with title “LHCb data”"
      ]
     },
     "metadata": {},
     "output_type": "display_data"
    }
   ],
   "source": [
    "hist(data.cutted.lhcb$Lambda_b0_MM_F[y_cut_lhcb_pred>0.0],   breaks=100, col=\"firebrick3\", xlab=\"Lb0 Mass\", main=\"LHCb data\",  probability=FALSE)\n",
    "hist(data.cutted.lhcb$Lambda_b0_MM_F[y_cut_lhcb_pred>0.9], breaks=100, add=TRUE, col='blue')\n",
    "#hist(data.cutted.lhcb$Lambda_b0_MM_F[y_cut_lhcb_pred>0.2], breaks=100, add=TRUE, col='green')\n",
    "#hist(data.cutted.lhcb$Lambda_b0_MM_F[y_cut_lhcb_pred>0.3], breaks=100, add=TRUE, col='orange')\n",
    "#hist(data.cutted.lhcb$Lambda_b0_MM_F[y_cut_lhcb_pred>0.5], breaks=100, add=TRUE, col='black')\n"
   ]
  },
  {
   "cell_type": "code",
   "execution_count": 21,
   "metadata": {},
   "outputs": [],
   "source": [
    "cv_tune_builder <- function (builder, params, x, y, cv=4, name=\"Test\"){\n",
    "    l=as.integer(nrow(x)/cv)\n",
    "    accs <- NULL\n",
    "    for(i in 0:(cv-1)){\n",
    "        x_tr <- x[-(i*l+1):-(l*(i+1)),]; x_cv <- x[(i*l+1):(l*(i+1)),]; \n",
    "        y_tr <- y[-(i*l+1):-(l*(i+1)) ]; y_cv <- y[(i*l+1):(l*(i+1)) ];\n",
    "        model <- builder(params)\n",
    "        eph    = ifelse('epochs'     %in% names(params), params$epochs     , 30  )\n",
    "        b_size = ifelse('batch_size' %in% names(params), params$batch_size , 10 )\n",
    "        hist  <- model %>% fit (x_tr, y_tr,  epochs = eph, batch_size = b_size, validation_data = list(x_cv, y_cv))\n",
    "        stats <- model %>% evaluate(x_test, y_test)\n",
    "        accs <- c(accs, stats[[2]])\n",
    "        mName <- paste(name, \"_cv\",i,\".hdf5\", sep=\"\")\n",
    "        save_model_hdf5(model, mName)\n",
    "    }\n",
    "    return (accs)\n",
    "}\n",
    "\n",
    "\n",
    "tune_builder <- function(builder, par_default, par_list, cv=4, verbose=FALSE, path=\"Models/Test/\"){\n",
    "    if(!dir.exists(path)){\n",
    "        dir.create(path)\n",
    "    }\n",
    "    grid = expand.grid(par_list)\n",
    "    mean_accs <- NULL\n",
    "    best_acc <- 0.0\n",
    "    par_best <- rlang::duplicate(par_default, shallow=FALSE)\n",
    "    for(i in 1:nrow(grid)){\n",
    "        par_copy <- rlang::duplicate(par_default, shallow=FALSE)\n",
    "        mName <- \"Model\"\n",
    "        for (name in names(par_list)){\n",
    "            par_copy[[name]] <- grid[[name]][i]\n",
    "            mName <- paste(mName,\"_\",name, grid[[name]][i], sep=\"\")\n",
    "        }\n",
    "        data <- get_train_data(par_copy$n_bkg, par_copy$n_sig) #get dataset\n",
    "        x <- data$x_train; y<-data$y_train;\n",
    "        acc <- cv_tune_builder(builder, par_copy, x, y, cv, paste(path,mName, sep=\"\"))\n",
    "        mean_accs <- c(mean_accs, mean(acc))\n",
    "        if(verbose){\n",
    "            print(\"Parameters: \")\n",
    "            print(par_copy)\n",
    "            print(\"Accuracies:\")\n",
    "            print(acc)\n",
    "            print(paste(\"Mean: \", mean(acc)))\n",
    "        }\n",
    "        if (mean(acc)>best_acc){\n",
    "            best_acc <- mean(acc)\n",
    "            par_best <- rlang::duplicate(par_copy, shallow=FALSE)\n",
    "        }        \n",
    "    }\n",
    "    if(verbose){\n",
    "        print(\"Best Parameters: \")\n",
    "        print(par_best)\n",
    "        print(paste(\"Accuracy:\", best_acc))\n",
    "    }\n",
    "    grid$Mean_acc <- mean_accs\n",
    "    #return(par_best)\n",
    "    return (grid)\n",
    "}"
   ]
  },
  {
   "cell_type": "code",
   "execution_count": 153,
   "metadata": {},
   "outputs": [],
   "source": [
    "TunerParams <- flags(\n",
    "    flag_numeric(\"dropout1\"   , 0.1                 ),\n",
    "    flag_numeric(\"dropout2\"   , 0.1                 ),\n",
    "    flag_numeric(\"dropout3\"   , 0.1                 ),\n",
    "    flag_numeric(\"unit1\"      , 128                 ),\n",
    "    flag_numeric(\"unit2\"      , 64                  ),\n",
    "    flag_numeric(\"unit3\"      , 32                  ),\n",
    "    flag_numeric(\"nFeat\"      , length(sel_features)),\n",
    "    flag_numeric(\"l1_coeff\"   , 1e-4                ),\n",
    "    flag_numeric(\"l2_coeff\"   , 1e-5                ),\n",
    "    flag_string (\"epochs\"     , 30                  ),  \n",
    "    flag_string (\"batch_size\" , 10                  ),\n",
    "    flag_numeric(\"n_bkg\"      , 1000                ),\n",
    "    flag_numeric(\"n_sig\"      , 1090                )            \n",
    ")"
   ]
  },
  {
   "cell_type": "code",
   "execution_count": 148,
   "metadata": {},
   "outputs": [
    {
     "name": "stdout",
     "output_type": "stream",
     "text": [
      "  n_bkg epochs  Mean_acc\n",
      "1   500     20 0,7940625\n",
      "2   750     20 0,8340625\n",
      "3  1000     20 0,8443750\n",
      "4  1500     20 0,8265625\n",
      "5  2000     20 0,7906250\n",
      "6  2500     20 0,7771875\n",
      "7  3000     20 0,7415625\n"
     ]
    }
   ],
   "source": [
    "NBkgList <- list(n_bkg= c(500 , 750 , 1000, 1500,\n",
    "                          2000, 2500, 3000), \n",
    "                 epochs=(20))\n",
    "\n",
    "tuned_grid <- tune_builder(build_model, TunerParams, NBkgList, 4, FALSE, \"Models/BkgNum/\" )\n",
    "\n",
    "print(tuned_grid)\n",
    "\n",
    "#"
   ]
  },
  {
   "cell_type": "code",
   "execution_count": 155,
   "metadata": {},
   "outputs": [
    {
     "name": "stderr",
     "output_type": "stream",
     "text": [
      "Model_batch_size10\n",
      "Model_batch_size10_epochs5\n",
      "Model_batch_size10\n",
      "Model_batch_size10_epochs10\n",
      "Model_batch_size10\n",
      "Model_batch_size10_epochs20\n",
      "Model_batch_size10\n",
      "Model_batch_size10_epochs30\n",
      "Model_batch_size10\n",
      "Model_batch_size10_epochs50\n",
      "Model_batch_size10\n",
      "Model_batch_size10_epochs75\n",
      "Model_batch_size10\n",
      "Model_batch_size10_epochs100\n",
      "Model_batch_size10\n",
      "Model_batch_size10_epochs150\n",
      "Model_batch_size10\n",
      "Model_batch_size10_epochs200\n",
      "Model_batch_size10\n",
      "Model_batch_size10_epochs300\n"
     ]
    },
    {
     "name": "stdout",
     "output_type": "stream",
     "text": [
      "   batch_size epochs  Mean_acc\n",
      "1          10      5 0,8456250\n",
      "2          10     10 0,8450000\n",
      "3          10     20 0,8409375\n",
      "4          10     30 0,8406250\n",
      "5          10     50 0,8350000\n",
      "6          10     75 0,8328125\n",
      "7          10    100 0,8312500\n",
      "8          10    150 0,8300000\n",
      "9          10    200 0,8253125\n",
      "10         10    300 0,8231250\n"
     ]
    }
   ],
   "source": [
    "#Batch_Epoch_List <- list(batch_size=c(1, 5, 10,20,50, 100), \n",
    "#               epochs=c(5,10,20))\n",
    "Batch_Epoch_List <- list(batch_size=c( 10), \n",
    "               epochs=c(5,10,20, 30, 50, 75, 100, 150, 200, 300))\n",
    "\n",
    "tuned_grid <- tune_builder(build_model, TunerParams, Batch_Epoch_List, 4, FALSE, \"Models/Batch_Epoch/\" )\n",
    "\n",
    "print(tuned_grid)"
   ]
  },
  {
   "cell_type": "code",
   "execution_count": 23,
   "metadata": {},
   "outputs": [],
   "source": [
    "getOptimizer <- function (params){\n",
    "    if (params$optimizer == \"rmsprop\"){\n",
    "        return (optimizer_rmsprop(lr = params$lr, rho=params$rho))}\n",
    "    if (params$optimizer == \"adam\"){\n",
    "        return (optimizer_adam(lr = params$lr, beta_1 = params$beta_1, \n",
    "                                               beta_2 = params$beta_2 ))}\n",
    "    if (params$optimizer == \"nadam\"){\n",
    "        return (optimizer_nadam(lr = params$lr, beta_1 = params$beta_1, \n",
    "                                                beta_2 = params$beta_2 ))}\n",
    "    if (params$optimizer == \"sgd\"){\n",
    "        return (optimizer_sgd(lr = params$lr, momentum = params$momentum, \n",
    "                               decay = 1e-6, nesterov = TRUE)) }\n",
    "}\n",
    "\n",
    "\n",
    "Archi_build_model <- function(params){\n",
    "    model <- keras_model_sequential()\n",
    "    model %>%\n",
    "      layer_dense(units = params$unit1, activation = params$act_dense, \n",
    "                  input_shape = c(params$nFeat), \n",
    "                  kernel_regularizer=regularizer_l1_l2(l1=params$l1_coeff, l2=params$l2_coeff)) %>%\n",
    "      layer_dropout(rate = params$dropout1) %>%\n",
    "      layer_dense(units = params$unit2, activation = params$act_dense,  \n",
    "                  kernel_regularizer=regularizer_l1_l2(l1=params$l1_coeff, l2=params$l2_coeff)) %>%\n",
    "      layer_dropout(rate = params$dropout2) %>%\n",
    "      layer_dense(units = params$unit3, activation = params$act_dense, \n",
    "                  kernel_regularizer=regularizer_l1_l2(l1=params$l1_coeff, l2=params$l2_coeff)) %>%\n",
    "      layer_dropout(rate = params$dropout3) %>%\n",
    "      layer_dense(units = 1, activation = params$act_final)\n",
    "\n",
    "    model %>% compile(\n",
    "      loss = params$loss,\n",
    "      optimizer = getOptimizer(params),\n",
    "      metrics = c('accuracy')\n",
    "    )\n",
    "    return(model)\n",
    "}\n",
    "\n",
    "ArchiParams <- flags(\n",
    "    flag_numeric(\"dropout1\"   , 0.1                   ),\n",
    "    flag_numeric(\"dropout2\"   , 0.1                   ),\n",
    "    flag_numeric(\"dropout3\"   , 0.1                   ),\n",
    "    flag_numeric(\"unit1\"      , 128                   ),\n",
    "    flag_numeric(\"unit2\"      , 64                    ),\n",
    "    flag_numeric(\"unit3\"      , 32                    ),\n",
    "    flag_numeric(\"nFeat\"      , length(sel_features)  ),\n",
    "    flag_numeric(\"l1_coeff\"   , 1e-4                  ),\n",
    "    flag_numeric(\"l2_coeff\"   , 1e-5                  ),\n",
    "    flag_string (\"epochs\"     , 10                    ),  \n",
    "    flag_string (\"batch_size\" , 5                     ),\n",
    "    flag_numeric(\"n_bkg\"      , 1000                  ),\n",
    "    flag_numeric(\"n_sig\"      , 1090                  ),\n",
    "    flag_string (\"act_dense\"  , \"relu\"                ),\n",
    "    flag_string (\"act_final\"  , \"sigmoid\"             ),\n",
    "    flag_string (\"loss\"       , \"binary_crossentropy\" ),\n",
    "    flag_string (\"optimizer\"  , \"rmsprop\"             ),\n",
    "    flag_numeric(\"lr\"         , 0.001                 ), #learing rate for the optimizers\n",
    "    flag_numeric(\"rho\"        , 0.9                   ), #rms rho\n",
    "    flag_numeric(\"beta_1\"     , 0.9                   ), #beta1 adam/nadam\n",
    "    flag_numeric(\"beta_2\"     , 0.999                 ), #beta2 adam/nadam\n",
    "    flag_numeric(\"momentum\"   , 0.9                   ) #momentum sgd\n",
    ")"
   ]
  },
  {
   "cell_type": "code",
   "execution_count": 161,
   "metadata": {},
   "outputs": [
    {
     "name": "stdout",
     "output_type": "stream",
     "text": [
      "   unit1 unit2 unit3  Mean_acc\n",
      "1    256   128    64 0,8400000\n",
      "2    128   128    64 0,8484375\n",
      "3     64   128    64 0,8471875\n",
      "4    256    64    64 0,8437500\n",
      "5    128    64    64 0,8434375\n",
      "6     64    64    64 0,8400000\n",
      "7    256    32    64 0,8440625\n",
      "8    128    32    64 0,8425000\n",
      "9     64    32    64 0,8475000\n",
      "10   256   128    32 0,8453125\n",
      "11   128   128    32 0,8478125\n",
      "12    64   128    32 0,8503125\n",
      "13   256    64    32 0,8353125\n",
      "14   128    64    32 0,8462500\n",
      "15    64    64    32 0,8434375\n",
      "16   256    32    32 0,8384375\n",
      "17   128    32    32 0,8406250\n",
      "18    64    32    32 0,8456250\n",
      "19   256   128    16 0,8440625\n",
      "20   128   128    16 0,8462500\n",
      "21    64   128    16 0,8368750\n",
      "22   256    64    16 0,8478125\n",
      "23   128    64    16 0,8462500\n",
      "24    64    64    16 0,8440625\n",
      "25   256    32    16 0,8468750\n",
      "26   128    32    16 0,8406250\n",
      "27    64    32    16 0,8478125\n"
     ]
    }
   ],
   "source": [
    "Units_List <- list(unit1=c(256,128, 64),\n",
    "                   unit2=c(128, 64, 32),\n",
    "                   unit3=c( 64, 32, 16))\n",
    "\n",
    "tuned_grid <- tune_builder(Archi_build_model, ArchiParams, Units_List, 4, FALSE,\n",
    "                           \"Models/Units/\" )\n",
    "\n",
    "print(tuned_grid)"
   ]
  },
  {
   "cell_type": "code",
   "execution_count": 162,
   "metadata": {},
   "outputs": [
    {
     "name": "stdout",
     "output_type": "stream",
     "text": [
      "   dropout1 dropout2 dropout3  Mean_acc\n",
      "1       0,1      0,1      0,1 0,8437500\n",
      "2       0,2      0,1      0,1 0,8462500\n",
      "3       0,3      0,1      0,1 0,8437500\n",
      "4       0,1      0,2      0,1 0,8431250\n",
      "5       0,2      0,2      0,1 0,8406250\n",
      "6       0,3      0,2      0,1 0,8453125\n",
      "7       0,1      0,3      0,1 0,8481250\n",
      "8       0,2      0,3      0,1 0,8450000\n",
      "9       0,3      0,3      0,1 0,8512500\n",
      "10      0,1      0,1      0,2 0,8450000\n",
      "11      0,2      0,1      0,2 0,8453125\n",
      "12      0,3      0,1      0,2 0,8384375\n",
      "13      0,1      0,2      0,2 0,8381250\n",
      "14      0,2      0,2      0,2 0,8437500\n",
      "15      0,3      0,2      0,2 0,8440625\n",
      "16      0,1      0,3      0,2 0,8478125\n",
      "17      0,2      0,3      0,2 0,8446875\n",
      "18      0,3      0,3      0,2 0,8459375\n",
      "19      0,1      0,1      0,3 0,8406250\n",
      "20      0,2      0,1      0,3 0,8503125\n",
      "21      0,3      0,1      0,3 0,8409375\n",
      "22      0,1      0,2      0,3 0,8350000\n",
      "23      0,2      0,2      0,3 0,8468750\n",
      "24      0,3      0,2      0,3 0,8381250\n",
      "25      0,1      0,3      0,3 0,8437500\n",
      "26      0,2      0,3      0,3 0,8465625\n",
      "27      0,3      0,3      0,3 0,8465625\n"
     ]
    }
   ],
   "source": [
    "Dropout_List <- list(dropout1=c(0.1, 0.2, 0.3),\n",
    "                     dropout2=c(0.1, 0.2, 0.3),\n",
    "                     dropout3=c(0.1, 0.2, 0.3))\n",
    "\n",
    "tuned_grid <- tune_builder(Archi_build_model, ArchiParams, Dropout_List, 4, FALSE,\n",
    "                           \"Models/Dropouts/\" )\n",
    "\n",
    "print(tuned_grid)"
   ]
  },
  {
   "cell_type": "code",
   "execution_count": 28,
   "metadata": {},
   "outputs": [],
   "source": [
    "ArchiParams_TunedUnit <- flags(\n",
    "    flag_numeric(\"dropout1\"   , 0.3                   ),\n",
    "    flag_numeric(\"dropout2\"   , 0.3                   ),\n",
    "    flag_numeric(\"dropout3\"   , 0.1                   ),\n",
    "    flag_numeric(\"unit1\"      , 64                    ),\n",
    "    flag_numeric(\"unit2\"      , 128                   ),\n",
    "    flag_numeric(\"unit3\"      , 32                    ),\n",
    "    flag_numeric(\"nFeat\"      , length(sel_features)  ),\n",
    "    flag_numeric(\"l1_coeff\"   , 1e-4                  ),\n",
    "    flag_numeric(\"l2_coeff\"   , 1e-5                  ),\n",
    "    flag_string (\"epochs\"     , 10                    ),  \n",
    "    flag_string (\"batch_size\" , 5                     ),\n",
    "    flag_numeric(\"n_bkg\"      , 1000                  ),\n",
    "    flag_numeric(\"n_sig\"      , 1090                  ),\n",
    "    flag_string (\"act_dense\"  , \"relu\"                ),\n",
    "    flag_string (\"act_final\"  , \"sigmoid\"             ),\n",
    "    flag_string (\"loss\"       , \"binary_crossentropy\" ),\n",
    "    flag_string (\"optimizer\"  , \"rmsprop\"             ),\n",
    "    flag_numeric(\"lr\"         , 0.001                 ), #learing rate for the optimizers\n",
    "    flag_numeric(\"rho\"        , 0.9                   ), #rms rho\n",
    "    flag_numeric(\"beta_1\"     , 0.9                   ), #beta1 adam/nadam\n",
    "    flag_numeric(\"beta_2\"     , 0.999                 ), #beta2 adam/nadam\n",
    "    flag_numeric(\"momentum\"   , 0.9                   ) #momentum sgd\n",
    ")"
   ]
  },
  {
   "cell_type": "code",
   "execution_count": 29,
   "metadata": {},
   "outputs": [
    {
     "name": "stdout",
     "output_type": "stream",
     "text": [
      "   act_dense    act_final  Mean_acc\n",
      "1       relu      sigmoid 0,8396875\n",
      "2        elu      sigmoid 0,8393750\n",
      "3       selu      sigmoid 0,8381250\n",
      "4     linear      sigmoid 0,8137500\n",
      "5       relu      softmax 0,5000000\n",
      "6        elu      softmax 0,5000000\n",
      "7       selu      softmax 0,5000000\n",
      "8     linear      softmax 0,5000000\n",
      "9       relu hard_sigmoid 0,8400000\n",
      "10       elu hard_sigmoid 0,8362500\n",
      "11      selu hard_sigmoid 0,8337500\n",
      "12    linear hard_sigmoid 0,8103125\n"
     ]
    }
   ],
   "source": [
    "Activation_List <- list(act_dense=c( \"relu\"   ,  \"elu\", \"selu\", \"linear\"),\n",
    "                        act_final=c( \"sigmoid\", \"softmax\", \"hard_sigmoid\" ))\n",
    "\n",
    "tuned_grid <- tune_builder(Archi_build_model, ArchiParams_TunedUnit, Activation_List, 4, FALSE,\n",
    "                           \"Models/Activation/\" )\n",
    "\n",
    "print(tuned_grid)"
   ]
  },
  {
   "cell_type": "code",
   "execution_count": 30,
   "metadata": {},
   "outputs": [
    {
     "name": "stdout",
     "output_type": "stream",
     "text": [
      "                         loss  Mean_acc\n",
      "1         binary_crossentropy 0,8453125\n",
      "2                     poisson 0,8353125\n",
      "3 kullback_leibler_divergence 0,5000000\n",
      "4                       hinge 0,8331250\n",
      "5          mean_squared_error 0,8428125\n",
      "6         mean_absolute_error 0,8228125\n"
     ]
    }
   ],
   "source": [
    "Loss_List <- list(loss=c( \"binary_crossentropy\", \"poisson\",\n",
    "                              \"kullback_leibler_divergence\", \"hinge\",\n",
    "                              \"mean_squared_error\", \"mean_absolute_error\"))\n",
    "\n",
    "tuned_grid <- tune_builder(Archi_build_model, ArchiParams_TunedUnit, Loss_List, 4, FALSE,\n",
    "                           \"Models/Loss/\" )\n",
    "\n",
    "print(tuned_grid)"
   ]
  },
  {
   "cell_type": "code",
   "execution_count": 51,
   "metadata": {},
   "outputs": [],
   "source": [
    "ArchiParams_TunedLayers <- flags(\n",
    "    flag_numeric(\"dropout1\"   , 0.3                   ),\n",
    "    flag_numeric(\"dropout2\"   , 0.3                   ),\n",
    "    flag_numeric(\"dropout3\"   , 0.1                   ),\n",
    "    flag_numeric(\"unit1\"      , 64                    ),\n",
    "    flag_numeric(\"unit2\"      , 128                   ),\n",
    "    flag_numeric(\"unit3\"      , 32                    ),\n",
    "    flag_numeric(\"nFeat\"      , length(sel_features)  ),\n",
    "    flag_numeric(\"l1_coeff\"   , 1e-4                  ),\n",
    "    flag_numeric(\"l2_coeff\"   , 1e-5                  ),\n",
    "    flag_string (\"epochs\"     , 10                    ),  \n",
    "    flag_string (\"batch_size\" , 5                     ),\n",
    "    flag_numeric(\"n_bkg\"      , 1000                  ),\n",
    "    flag_numeric(\"n_sig\"      , 1090                  ),\n",
    "    flag_string (\"act_dense\"  , \"relu\"                ),\n",
    "    flag_string (\"act_final\"  , \"hard_sigmoid\"        ),\n",
    "    flag_string (\"loss\"       , \"binary_crossentropy\" ),\n",
    "    flag_string (\"optimizer\"  , \"rmsprop\"             ),\n",
    "    flag_numeric(\"lr\"         , 0.001                 ), #learing rate for the optimizers\n",
    "    flag_numeric(\"rho\"        , 0.9                   ), #rms rho\n",
    "    flag_numeric(\"beta_1\"     , 0.9                   ), #beta1 adam/nadam\n",
    "    flag_numeric(\"beta_2\"     , 0.999                 ), #beta2 adam/nadam\n",
    "    flag_numeric(\"momentum\"   , 0.9                   ) #momentum sgd\n",
    ")"
   ]
  },
  {
   "cell_type": "code",
   "execution_count": 37,
   "metadata": {},
   "outputs": [
    {
     "name": "stdout",
     "output_type": "stream",
     "text": [
      "   optimizer    lr  rho  Mean_acc\n",
      "1    rmsprop 0,007 0,98 0,8312500\n",
      "2    rmsprop 0,005 0,98 0,8340625\n",
      "3    rmsprop 0,003 0,98 0,8437500\n",
      "4    rmsprop 0,007 0,95 0,8368750\n",
      "5    rmsprop 0,005 0,95 0,8425000\n",
      "6    rmsprop 0,003 0,95 0,8471875\n",
      "7    rmsprop 0,007 0,93 0,8396875\n",
      "8    rmsprop 0,005 0,93 0,8346875\n",
      "9    rmsprop 0,003 0,93 0,8393750\n",
      "10   rmsprop 0,007 0,90 0,8384375\n",
      "11   rmsprop 0,005 0,90 0,8400000\n",
      "12   rmsprop 0,003 0,90 0,8490625\n"
     ]
    }
   ],
   "source": [
    "RMS_List <-  list(optimizer=\"rmsprop\",\n",
    "                  lr = c( 0.007, 0.005 ,  0.003),\n",
    "                  rho= c(0.98 ,  0.95,  0.93,  0.9))\n",
    "\n",
    "tuned_grid <- tune_builder(Archi_build_model, ArchiParams_TunedLayers, RMS_List, 4, FALSE,\n",
    "                           \"Models/Optimizers/RMS/\" )\n",
    "\n",
    "print(tuned_grid)"
   ]
  },
  {
   "cell_type": "code",
   "execution_count": null,
   "metadata": {},
   "outputs": [],
   "source": [
    "model <- Archi_build_model(ArchiParams_TunedLayers)\n",
    "data  <- get_train_data(1000) \n",
    "history  <- model %>% fit (data$x_train, data$y_train, verbose=2,\n",
    "                     epochs=10, batch_size=5, validation_split=0.2)\n",
    "model %>% evaluate(x_test, y_test)\n",
    "plot(history)\n",
    "y_cut_lhcb_pred <- model %>% predict(x_cut_lhcb)"
   ]
  },
  {
   "cell_type": "code",
   "execution_count": null,
   "metadata": {},
   "outputs": [],
   "source": [
    "hist(data.cutted.lhcb$Lambda_b0_MM_F[y_cut_lhcb_pred>0.0],   breaks=100, col=\"firebrick3\", xlab=\"Lb0 Mass\", main=\"LHCb data\",  probability=FALSE)\n",
    "hist(data.cutted.lhcb$Lambda_b0_MM_F[y_cut_lhcb_pred>0.9973], breaks=100, add=TRUE, col='blue')\n"
   ]
  },
  {
   "cell_type": "code",
   "execution_count": null,
   "metadata": {},
   "outputs": [],
   "source": [
    "ADAM_List <-  list(optimizer=\"adam\",\n",
    "                  lr     = c(0.003, 0.001, 5e-4,  3e-4, 1e-4  ),\n",
    "                  beta_1 = c( 0.87,   0.9, 0.93  ),\n",
    "                  beta_2 = c( 0.99, 0.995, 0.999 ))\n",
    "\n",
    "tuned_grid <- tune_builder(Archi_build_model, ArchiParams_TunedLayers, ADAM_List, 4, FALSE,\n",
    "                           \"Models/Optimizers/ADAM/\" )\n",
    "\n",
    "print(tuned_grid)"
   ]
  },
  {
   "cell_type": "code",
   "execution_count": 54,
   "metadata": {},
   "outputs": [
    {
     "name": "stdout",
     "output_type": "stream",
     "text": [
      "   optimizer    lr beta_1 beta_2  Mean_acc\n",
      "1       adam 3e-03   0,87  0,990 0,8328125\n",
      "2       adam 1e-03   0,87  0,990 0,8371875\n",
      "3       adam 5e-04   0,87  0,990 0,8384375\n",
      "4       adam 3e-04   0,87  0,990 0,8350000\n",
      "5       adam 1e-04   0,87  0,990 0,8196875\n",
      "6       adam 3e-03   0,90  0,990 0,8306250\n",
      "7       adam 1e-03   0,90  0,990 0,8365625\n",
      "8       adam 5e-04   0,90  0,990 0,8365625\n",
      "9       adam 3e-04   0,90  0,990 0,8365625\n",
      "10      adam 1e-04   0,90  0,990 0,8215625\n",
      "11      adam 3e-03   0,93  0,990 0,8415625\n",
      "12      adam 1e-03   0,93  0,990 0,8337500\n",
      "13      adam 5e-04   0,93  0,990 0,8340625\n",
      "14      adam 3e-04   0,93  0,990 0,8387500\n",
      "15      adam 1e-04   0,93  0,990 0,8215625\n",
      "16      adam 3e-03   0,87  0,995 0,8303125\n",
      "17      adam 1e-03   0,87  0,995 0,8371875\n",
      "18      adam 5e-04   0,87  0,995 0,8356250\n",
      "19      adam 3e-04   0,87  0,995 0,8359375\n",
      "20      adam 1e-04   0,87  0,995 0,8240625\n",
      "21      adam 3e-03   0,90  0,995 0,8315625\n",
      "22      adam 1e-03   0,90  0,995 0,8396875\n",
      "23      adam 5e-04   0,90  0,995 0,8384375\n",
      "24      adam 3e-04   0,90  0,995 0,8296875\n",
      "25      adam 1e-04   0,90  0,995 0,8181250\n",
      "26      adam 3e-03   0,93  0,995 0,8378125\n",
      "27      adam 1e-03   0,93  0,995 0,8403125\n",
      "28      adam 5e-04   0,93  0,995 0,8340625\n",
      "29      adam 3e-04   0,93  0,995 0,8343750\n",
      "30      adam 1e-04   0,93  0,995 0,8196875\n",
      "31      adam 3e-03   0,87  0,999 0,8350000\n",
      "32      adam 1e-03   0,87  0,999 0,8321875\n",
      "33      adam 5e-04   0,87  0,999 0,8334375\n",
      "34      adam 3e-04   0,87  0,999 0,8315625\n",
      "35      adam 1e-04   0,87  0,999 0,8203125\n",
      "36      adam 3e-03   0,90  0,999 0,8381250\n",
      "37      adam 1e-03   0,90  0,999 0,8371875\n",
      "38      adam 5e-04   0,90  0,999 0,8365625\n",
      "39      adam 3e-04   0,90  0,999 0,8343750\n",
      "40      adam 1e-04   0,90  0,999 0,8196875\n",
      "41      adam 3e-03   0,93  0,999 0,8315625\n",
      "42      adam 1e-03   0,93  0,999 0,8368750\n",
      "43      adam 5e-04   0,93  0,999 0,8403125\n",
      "44      adam 3e-04   0,93  0,999 0,8334375\n",
      "45      adam 1e-04   0,93  0,999 0,8203125\n"
     ]
    }
   ],
   "source": [
    "print(tuned_grid)"
   ]
  },
  {
   "cell_type": "code",
   "execution_count": 56,
   "metadata": {},
   "outputs": [
    {
     "name": "stdout",
     "output_type": "stream",
     "text": [
      "   optimizer    lr beta_1 beta_2  Mean_acc\n",
      "1      nadam 3e-03   0,87  0,990 0,8381250\n",
      "2      nadam 1e-03   0,87  0,990 0,8390625\n",
      "3      nadam 5e-04   0,87  0,990 0,8412500\n",
      "4      nadam 3e-04   0,87  0,990 0,8353125\n",
      "5      nadam 1e-04   0,87  0,990 0,8156250\n",
      "6      nadam 3e-03   0,90  0,990 0,8378125\n",
      "7      nadam 1e-03   0,90  0,990 0,8365625\n",
      "8      nadam 5e-04   0,90  0,990 0,8365625\n",
      "9      nadam 3e-04   0,90  0,990 0,8343750\n",
      "10     nadam 1e-04   0,90  0,990 0,8165625\n",
      "11     nadam 3e-03   0,93  0,990 0,8393750\n",
      "12     nadam 1e-03   0,93  0,990 0,8368750\n",
      "13     nadam 5e-04   0,93  0,990 0,8396875\n",
      "14     nadam 3e-04   0,93  0,990 0,8334375\n",
      "15     nadam 1e-04   0,93  0,990 0,8175000\n",
      "16     nadam 3e-03   0,87  0,995 0,8325000\n",
      "17     nadam 1e-03   0,87  0,995 0,8346875\n",
      "18     nadam 5e-04   0,87  0,995 0,8318750\n",
      "19     nadam 3e-04   0,87  0,995 0,8309375\n",
      "20     nadam 1e-04   0,87  0,995 0,8134375\n",
      "21     nadam 3e-03   0,90  0,995 0,8337500\n",
      "22     nadam 1e-03   0,90  0,995 0,8293750\n",
      "23     nadam 5e-04   0,90  0,995 0,8418750\n",
      "24     nadam 3e-04   0,90  0,995 0,8337500\n",
      "25     nadam 1e-04   0,90  0,995 0,8171875\n",
      "26     nadam 3e-03   0,93  0,995 0,8303125\n",
      "27     nadam 1e-03   0,93  0,995 0,8434375\n",
      "28     nadam 5e-04   0,93  0,995 0,8384375\n",
      "29     nadam 3e-04   0,93  0,995 0,8278125\n",
      "30     nadam 1e-04   0,93  0,995 0,8225000\n",
      "31     nadam 3e-03   0,87  0,999 0,8318750\n",
      "32     nadam 1e-03   0,87  0,999 0,8384375\n",
      "33     nadam 5e-04   0,87  0,999 0,8393750\n",
      "34     nadam 3e-04   0,87  0,999 0,8290625\n",
      "35     nadam 1e-04   0,87  0,999 0,8203125\n",
      "36     nadam 3e-03   0,90  0,999 0,8337500\n",
      "37     nadam 1e-03   0,90  0,999 0,8384375\n",
      "38     nadam 5e-04   0,90  0,999 0,8378125\n",
      "39     nadam 3e-04   0,90  0,999 0,8346875\n",
      "40     nadam 1e-04   0,90  0,999 0,8193750\n",
      "41     nadam 3e-03   0,93  0,999 0,8362500\n",
      "42     nadam 1e-03   0,93  0,999 0,8350000\n",
      "43     nadam 5e-04   0,93  0,999 0,8318750\n",
      "44     nadam 3e-04   0,93  0,999 0,8356250\n",
      "45     nadam 1e-04   0,93  0,999 0,8125000\n"
     ]
    }
   ],
   "source": [
    "NADAM_List <-  list(optimizer=\"nadam\",\n",
    "                  lr     = c(0.003, 0.001, 5e-4,  3e-4, 1e-4  ),\n",
    "                  beta_1 = c( 0.87,   0.9, 0.93  ),\n",
    "                  beta_2 = c( 0.99, 0.995, 0.999 ))\n",
    "\n",
    "tuned_grid <- tune_builder(Archi_build_model, ArchiParams_TunedLayers, NADAM_List, 4, FALSE,\n",
    "                           \"Models/Optimizers/NADAM/\" )\n",
    "\n",
    "print(tuned_grid)"
   ]
  },
  {
   "cell_type": "code",
   "execution_count": 60,
   "metadata": {},
   "outputs": [
    {
     "name": "stdout",
     "output_type": "stream",
     "text": [
      "  optimizer    lr momentum  Mean_acc\n",
      "1       sgd 1e-02     0,92 0,5043750\n",
      "2       sgd 5e-03     0,92 0,5821875\n",
      "3       sgd 1e-03     0,92 0,6262500\n",
      "4       sgd 5e-04     0,92 0,7812500\n",
      "5       sgd 1e-02     0,90 0,5584375\n",
      "6       sgd 5e-03     0,90 0,5937500\n",
      "7       sgd 1e-03     0,90 0,8050000\n",
      "8       sgd 5e-04     0,90 0,8181250\n"
     ]
    }
   ],
   "source": [
    "SGD_List <-   list(optimizer=\"sgd\",\n",
    "                   lr       = c(0.01, 0.005, 0.001, 5e-4),\n",
    "                   momentum = c( 0.92, 0.9))\n",
    "\n",
    "tuned_grid <- tune_builder(Archi_build_model, ArchiParams_TunedLayers, SGD_List, 4, FALSE,\n",
    "                           \"Models/Optimizers/SGD/\" )\n",
    "\n",
    "print(tuned_grid)"
   ]
  },
  {
   "cell_type": "code",
   "execution_count": 63,
   "metadata": {},
   "outputs": [],
   "source": [
    "write.table(tuned_grid, \"text.txt\")"
   ]
  },
  {
   "cell_type": "code",
   "execution_count": 69,
   "metadata": {},
   "outputs": [],
   "source": [
    "ArchiParams_TunedOpt <- flags(\n",
    "    flag_numeric(\"dropout1\"   , 0.3                   ),\n",
    "    flag_numeric(\"dropout2\"   , 0.3                   ),\n",
    "    flag_numeric(\"dropout3\"   , 0.1                   ),\n",
    "    flag_numeric(\"unit1\"      , 64                    ),\n",
    "    flag_numeric(\"unit2\"      , 128                   ),\n",
    "    flag_numeric(\"unit3\"      , 32                    ),\n",
    "    flag_numeric(\"nFeat\"      , length(sel_features)  ),\n",
    "    flag_numeric(\"l1_coeff\"   , 1e-4                  ),\n",
    "    flag_numeric(\"l2_coeff\"   , 1e-5                  ),\n",
    "    flag_string (\"epochs\"     , 10                    ),  \n",
    "    flag_string (\"batch_size\" , 5                     ),\n",
    "    flag_numeric(\"n_bkg\"      , 1000                  ),\n",
    "    flag_numeric(\"n_sig\"      , 1090                  ),\n",
    "    flag_string (\"act_dense\"  , \"relu\"                ),\n",
    "    flag_string (\"act_final\"  , \"sigmoid\"             ),\n",
    "    flag_string (\"loss\"       , \"binary_crossentropy\" ),\n",
    "    flag_string (\"optimizer\"  , \"rmsprop\"             ),\n",
    "    flag_numeric(\"lr\"         , 0.001                 ), #learing rate for the optimizers\n",
    "    flag_numeric(\"rho\"        , 0.9                   ), #rms rho\n",
    "    flag_numeric(\"beta_1\"     , 0.9                   ), #beta1 adam/nadam\n",
    "    flag_numeric(\"beta_2\"     , 0.999                 ), #beta2 adam/nadam\n",
    "    flag_numeric(\"momentum\"   , 0.9                   ) #momentum sgd\n",
    ")"
   ]
  },
  {
   "cell_type": "code",
   "execution_count": 65,
   "metadata": {},
   "outputs": [
    {
     "name": "stdout",
     "output_type": "stream",
     "text": [
      "   l1_coeff l2_coeff optimizer    lr rho  Mean_acc\n",
      "1     1e-02    1e-02   rmsprop 0,003 0,9 0,5000000\n",
      "2     1e-03    1e-02   rmsprop 0,003 0,9 0,8378125\n",
      "3     1e-04    1e-02   rmsprop 0,003 0,9 0,8387500\n",
      "4     1e-05    1e-02   rmsprop 0,003 0,9 0,8290625\n",
      "5     1e-06    1e-02   rmsprop 0,003 0,9 0,8412500\n",
      "6     0e+00    1e-02   rmsprop 0,003 0,9 0,8400000\n",
      "7     1e-02    1e-03   rmsprop 0,003 0,9 0,7315625\n",
      "8     1e-03    1e-03   rmsprop 0,003 0,9 0,8368750\n",
      "9     1e-04    1e-03   rmsprop 0,003 0,9 0,8443750\n",
      "10    1e-05    1e-03   rmsprop 0,003 0,9 0,8446875\n",
      "11    1e-06    1e-03   rmsprop 0,003 0,9 0,8478125\n",
      "12    0e+00    1e-03   rmsprop 0,003 0,9 0,8453125\n",
      "13    1e-02    1e-04   rmsprop 0,003 0,9 0,6568750\n",
      "14    1e-03    1e-04   rmsprop 0,003 0,9 0,8412500\n",
      "15    1e-04    1e-04   rmsprop 0,003 0,9 0,8450000\n",
      "16    1e-05    1e-04   rmsprop 0,003 0,9 0,8525000\n",
      "17    1e-06    1e-04   rmsprop 0,003 0,9 0,8496875\n",
      "18    0e+00    1e-04   rmsprop 0,003 0,9 0,8475000\n",
      "19    1e-02    1e-05   rmsprop 0,003 0,9 0,7271875\n",
      "20    1e-03    1e-05   rmsprop 0,003 0,9 0,8468750\n",
      "21    1e-04    1e-05   rmsprop 0,003 0,9 0,8450000\n",
      "22    1e-05    1e-05   rmsprop 0,003 0,9 0,8496875\n",
      "23    1e-06    1e-05   rmsprop 0,003 0,9 0,8450000\n",
      "24    0e+00    1e-05   rmsprop 0,003 0,9 0,8475000\n",
      "25    1e-02    1e-06   rmsprop 0,003 0,9 0,8081250\n",
      "26    1e-03    1e-06   rmsprop 0,003 0,9 0,8412500\n",
      "27    1e-04    1e-06   rmsprop 0,003 0,9 0,8512500\n",
      "28    1e-05    1e-06   rmsprop 0,003 0,9 0,8440625\n",
      "29    1e-06    1e-06   rmsprop 0,003 0,9 0,8437500\n",
      "30    0e+00    1e-06   rmsprop 0,003 0,9 0,8431250\n",
      "31    1e-02    0e+00   rmsprop 0,003 0,9 0,6596875\n",
      "32    1e-03    0e+00   rmsprop 0,003 0,9 0,8431250\n",
      "33    1e-04    0e+00   rmsprop 0,003 0,9 0,8443750\n",
      "34    1e-05    0e+00   rmsprop 0,003 0,9 0,8428125\n",
      "35    1e-06    0e+00   rmsprop 0,003 0,9 0,8446875\n",
      "36    0e+00    0e+00   rmsprop 0,003 0,9 0,8481250\n"
     ]
    }
   ],
   "source": [
    "#regularization analyssi with rms\n",
    "\n",
    "Reg_List <-   list(l1_coeff= c(1e-2, 1e-3, 1e-4, 1e-5, 1e-6, 0),\n",
    "                   l2_coeff= c(1e-2, 1e-3, 1e-4, 1e-5, 1e-6, 0),\n",
    "                   optimizer=\"rmsprop\", lr=0.003, rho=0.9)\n",
    "\n",
    "tuned_grid <- tune_builder(Archi_build_model, ArchiParams_TunedOpt, Reg_List, 4, FALSE,\n",
    "                           \"Models/Regularization/\" )\n",
    "\n",
    "print(tuned_grid)\n",
    "write.table(tuned_grid, \"Reg_rms.txt\")"
   ]
  },
  {
   "cell_type": "code",
   "execution_count": 66,
   "metadata": {},
   "outputs": [
    {
     "name": "stdout",
     "output_type": "stream",
     "text": [
      "   l1_coeff l2_coeff optimizer    lr beta_1 beta_2  Mean_acc\n",
      "1     1e-02    1e-02      adam 0,001   0,93  0,995 0,5000000\n",
      "2     1e-03    1e-02      adam 0,001   0,93  0,995 0,8381250\n",
      "3     1e-04    1e-02      adam 0,001   0,93  0,995 0,8450000\n",
      "4     1e-05    1e-02      adam 0,001   0,93  0,995 0,8512500\n",
      "5     1e-06    1e-02      adam 0,001   0,93  0,995 0,8490625\n",
      "6     0e+00    1e-02      adam 0,001   0,93  0,995 0,8431250\n",
      "7     1e-02    1e-03      adam 0,001   0,93  0,995 0,6518750\n",
      "8     1e-03    1e-03      adam 0,001   0,93  0,995 0,8453125\n",
      "9     1e-04    1e-03      adam 0,001   0,93  0,995 0,8428125\n",
      "10    1e-05    1e-03      adam 0,001   0,93  0,995 0,8434375\n",
      "11    1e-06    1e-03      adam 0,001   0,93  0,995 0,8409375\n",
      "12    0e+00    1e-03      adam 0,001   0,93  0,995 0,8468750\n",
      "13    1e-02    1e-04      adam 0,001   0,93  0,995 0,5712500\n",
      "14    1e-03    1e-04      adam 0,001   0,93  0,995 0,8478125\n",
      "15    1e-04    1e-04      adam 0,001   0,93  0,995 0,8412500\n",
      "16    1e-05    1e-04      adam 0,001   0,93  0,995 0,8396875\n",
      "17    1e-06    1e-04      adam 0,001   0,93  0,995 0,8450000\n",
      "18    0e+00    1e-04      adam 0,001   0,93  0,995 0,8396875\n",
      "19    1e-02    1e-05      adam 0,001   0,93  0,995 0,7306250\n",
      "20    1e-03    1e-05      adam 0,001   0,93  0,995 0,8450000\n",
      "21    1e-04    1e-05      adam 0,001   0,93  0,995 0,8431250\n",
      "22    1e-05    1e-05      adam 0,001   0,93  0,995 0,8378125\n",
      "23    1e-06    1e-05      adam 0,001   0,93  0,995 0,8443750\n",
      "24    0e+00    1e-05      adam 0,001   0,93  0,995 0,8440625\n",
      "25    1e-02    1e-06      adam 0,001   0,93  0,995 0,7290625\n",
      "26    1e-03    1e-06      adam 0,001   0,93  0,995 0,8481250\n",
      "27    1e-04    1e-06      adam 0,001   0,93  0,995 0,8462500\n",
      "28    1e-05    1e-06      adam 0,001   0,93  0,995 0,8418750\n",
      "29    1e-06    1e-06      adam 0,001   0,93  0,995 0,8312500\n",
      "30    0e+00    1e-06      adam 0,001   0,93  0,995 0,8446875\n",
      "31    1e-02    0e+00      adam 0,001   0,93  0,995 0,6468750\n",
      "32    1e-03    0e+00      adam 0,001   0,93  0,995 0,8446875\n",
      "33    1e-04    0e+00      adam 0,001   0,93  0,995 0,8393750\n",
      "34    1e-05    0e+00      adam 0,001   0,93  0,995 0,8412500\n",
      "35    1e-06    0e+00      adam 0,001   0,93  0,995 0,8418750\n",
      "36    0e+00    0e+00      adam 0,001   0,93  0,995 0,8415625\n"
     ]
    }
   ],
   "source": [
    "#regularization analyssi with adam\n",
    "\n",
    "Reg_List <-   list(l1_coeff= c(1e-2, 1e-3, 1e-4, 1e-5, 1e-6, 0),\n",
    "                   l2_coeff= c(1e-2, 1e-3, 1e-4, 1e-5, 1e-6, 0),\n",
    "                   optimizer=\"adam\", lr=1e-3, beta_1=0.93, beta_2=0.995)\n",
    "\n",
    "tuned_grid <- tune_builder(Archi_build_model, ArchiParams_TunedOpt, Reg_List, 4, FALSE,\n",
    "                           \"Models/Regularization/\" )\n",
    "\n",
    "print(tuned_grid)\n",
    "write.table(tuned_grid, \"Reg_adam.txt\")"
   ]
  },
  {
   "cell_type": "code",
   "execution_count": 67,
   "metadata": {},
   "outputs": [
    {
     "name": "stdout",
     "output_type": "stream",
     "text": [
      "   l1_coeff l2_coeff optimizer    lr beta_1 beta_2  Mean_acc\n",
      "1     1e-02    1e-02     nadam 5e-04    0,9  0,995 0,5746875\n",
      "2     1e-03    1e-02     nadam 5e-04    0,9  0,995 0,8396875\n",
      "3     1e-04    1e-02     nadam 5e-04    0,9  0,995 0,8403125\n",
      "4     1e-05    1e-02     nadam 5e-04    0,9  0,995 0,8412500\n",
      "5     1e-06    1e-02     nadam 5e-04    0,9  0,995 0,8465625\n",
      "6     0e+00    1e-02     nadam 5e-04    0,9  0,995 0,8450000\n",
      "7     1e-02    1e-03     nadam 5e-04    0,9  0,995 0,5759375\n",
      "8     1e-03    1e-03     nadam 5e-04    0,9  0,995 0,8421875\n",
      "9     1e-04    1e-03     nadam 5e-04    0,9  0,995 0,8465625\n",
      "10    1e-05    1e-03     nadam 5e-04    0,9  0,995 0,8368750\n",
      "11    1e-06    1e-03     nadam 5e-04    0,9  0,995 0,8459375\n",
      "12    0e+00    1e-03     nadam 5e-04    0,9  0,995 0,8421875\n",
      "13    1e-02    1e-04     nadam 5e-04    0,9  0,995 0,7359375\n",
      "14    1e-03    1e-04     nadam 5e-04    0,9  0,995 0,8446875\n",
      "15    1e-04    1e-04     nadam 5e-04    0,9  0,995 0,8525000\n",
      "16    1e-05    1e-04     nadam 5e-04    0,9  0,995 0,8396875\n",
      "17    1e-06    1e-04     nadam 5e-04    0,9  0,995 0,8456250\n",
      "18    0e+00    1e-04     nadam 5e-04    0,9  0,995 0,8478125\n",
      "19    1e-02    1e-05     nadam 5e-04    0,9  0,995 0,8121875\n",
      "20    1e-03    1e-05     nadam 5e-04    0,9  0,995 0,8440625\n",
      "21    1e-04    1e-05     nadam 5e-04    0,9  0,995 0,8462500\n",
      "22    1e-05    1e-05     nadam 5e-04    0,9  0,995 0,8493750\n",
      "23    1e-06    1e-05     nadam 5e-04    0,9  0,995 0,8468750\n",
      "24    0e+00    1e-05     nadam 5e-04    0,9  0,995 0,8393750\n",
      "25    1e-02    1e-06     nadam 5e-04    0,9  0,995 0,7321875\n",
      "26    1e-03    1e-06     nadam 5e-04    0,9  0,995 0,8425000\n",
      "27    1e-04    1e-06     nadam 5e-04    0,9  0,995 0,8384375\n",
      "28    1e-05    1e-06     nadam 5e-04    0,9  0,995 0,8446875\n",
      "29    1e-06    1e-06     nadam 5e-04    0,9  0,995 0,8396875\n",
      "30    0e+00    1e-06     nadam 5e-04    0,9  0,995 0,8406250\n",
      "31    1e-02    0e+00     nadam 5e-04    0,9  0,995 0,7284375\n",
      "32    1e-03    0e+00     nadam 5e-04    0,9  0,995 0,8434375\n",
      "33    1e-04    0e+00     nadam 5e-04    0,9  0,995 0,8400000\n",
      "34    1e-05    0e+00     nadam 5e-04    0,9  0,995 0,8453125\n",
      "35    1e-06    0e+00     nadam 5e-04    0,9  0,995 0,8459375\n",
      "36    0e+00    0e+00     nadam 5e-04    0,9  0,995 0,8462500\n"
     ]
    }
   ],
   "source": [
    "#regularization analyssi with nadam\n",
    "\n",
    "Reg_List <-   list(l1_coeff= c(1e-2, 1e-3, 1e-4, 1e-5, 1e-6, 0),\n",
    "                   l2_coeff= c(1e-2, 1e-3, 1e-4, 1e-5, 1e-6, 0),\n",
    "                   optimizer=\"nadam\", lr=5e-4, beta_1=0.9, beta_2=0.995)\n",
    "\n",
    "tuned_grid <- tune_builder(Archi_build_model, ArchiParams_TunedOpt, Reg_List, 4, FALSE,\n",
    "                           \"Models/Regularization/\" )\n",
    "\n",
    "print(tuned_grid)\n",
    "write.table(tuned_grid, \"Reg_nadam.txt\")"
   ]
  },
  {
   "cell_type": "code",
   "execution_count": 70,
   "metadata": {},
   "outputs": [
    {
     "name": "stdout",
     "output_type": "stream",
     "text": [
      "   l1_coeff l2_coeff optimizer    lr momentum  Mean_acc\n",
      "1     1e-02    1e-02       sgd 5e-04      0,9 0,6906250\n",
      "2     1e-03    1e-02       sgd 5e-04      0,9 0,8209375\n",
      "3     1e-04    1e-02       sgd 5e-04      0,9 0,8278125\n",
      "4     1e-05    1e-02       sgd 5e-04      0,9 0,8237500\n",
      "5     1e-06    1e-02       sgd 5e-04      0,9 0,8256250\n",
      "6     0e+00    1e-02       sgd 5e-04      0,9 0,8190625\n",
      "7     1e-02    1e-03       sgd 5e-04      0,9 0,7940625\n",
      "8     1e-03    1e-03       sgd 5e-04      0,9 0,8281250\n",
      "9     1e-04    1e-03       sgd 5e-04      0,9 0,8228125\n",
      "10    1e-05    1e-03       sgd 5e-04      0,9 0,8268750\n",
      "11    1e-06    1e-03       sgd 5e-04      0,9 0,8206250\n",
      "12    0e+00    1e-03       sgd 5e-04      0,9 0,8228125\n",
      "13    1e-02    1e-04       sgd 5e-04      0,9 0,7903125\n",
      "14    1e-03    1e-04       sgd 5e-04      0,9 0,8225000\n",
      "15    1e-04    1e-04       sgd 5e-04      0,9 0,8231250\n",
      "16    1e-05    1e-04       sgd 5e-04      0,9 0,8237500\n",
      "17    1e-06    1e-04       sgd 5e-04      0,9 0,8275000\n",
      "18    0e+00    1e-04       sgd 5e-04      0,9 0,8265625\n",
      "19    1e-02    1e-05       sgd 5e-04      0,9 0,7909375\n",
      "20    1e-03    1e-05       sgd 5e-04      0,9 0,8221875\n",
      "21    1e-04    1e-05       sgd 5e-04      0,9 0,8225000\n",
      "22    1e-05    1e-05       sgd 5e-04      0,9 0,8268750\n",
      "23    1e-06    1e-05       sgd 5e-04      0,9 0,8184375\n",
      "24    0e+00    1e-05       sgd 5e-04      0,9 0,8259375\n",
      "25    1e-02    1e-06       sgd 5e-04      0,9 0,7946875\n",
      "26    1e-03    1e-06       sgd 5e-04      0,9 0,8256250\n",
      "27    1e-04    1e-06       sgd 5e-04      0,9 0,8256250\n",
      "28    1e-05    1e-06       sgd 5e-04      0,9 0,8300000\n",
      "29    1e-06    1e-06       sgd 5e-04      0,9 0,8215625\n",
      "30    0e+00    1e-06       sgd 5e-04      0,9 0,8228125\n",
      "31    1e-02    0e+00       sgd 5e-04      0,9 0,7806250\n",
      "32    1e-03    0e+00       sgd 5e-04      0,9 0,8234375\n",
      "33    1e-04    0e+00       sgd 5e-04      0,9 0,8275000\n",
      "34    1e-05    0e+00       sgd 5e-04      0,9 0,8234375\n",
      "35    1e-06    0e+00       sgd 5e-04      0,9 0,8275000\n",
      "36    0e+00    0e+00       sgd 5e-04      0,9 0,8321875\n"
     ]
    }
   ],
   "source": [
    "#regularization analyssi with sgd\n",
    "\n",
    "Reg_List <-   list(l1_coeff= c(1e-2, 1e-3, 1e-4, 1e-5, 1e-6, 0),\n",
    "                   l2_coeff= c(1e-2, 1e-3, 1e-4, 1e-5, 1e-6, 0),\n",
    "                   optimizer=\"sgd\", lr=5e-4, momentum=0.9)\n",
    "\n",
    "tuned_grid <- tune_builder(Archi_build_model, ArchiParams_TunedOpt, Reg_List, 4, FALSE,\n",
    "                           \"Models/Regularization/\" )\n",
    "\n",
    "print(tuned_grid)\n",
    "write.table(tuned_grid, \"Reg_sgd.txt\")"
   ]
  },
  {
   "cell_type": "code",
   "execution_count": 79,
   "metadata": {},
   "outputs": [
    {
     "ename": "ERROR",
     "evalue": "Error in loadNamespace(name): there is no package called ‘mapplots’\n",
     "output_type": "error",
     "traceback": [
      "Error in loadNamespace(name): there is no package called ‘mapplots’\nTraceback:\n",
      "1. mapplots::make.grid",
      "2. getExportedValue(pkg, name)",
      "3. asNamespace(ns)",
      "4. getNamespace(ns)",
      "5. loadNamespace(name)",
      "6. withRestarts(stop(cond), retry_loadNamespace = function() NULL)",
      "7. withOneRestart(expr, restarts[[1L]])",
      "8. doWithOneRestart(return(expr), restart)"
     ]
    }
   ],
   "source": [
    "mapplots::make.grid(tuned_grid[,1], tuned_grid[,2], tuned_grid[,\"Mean_acc\"])"
   ]
  },
  {
   "cell_type": "code",
   "execution_count": 78,
   "metadata": {},
   "outputs": [
    {
     "name": "stderr",
     "output_type": "stream",
     "text": [
      "Warning message in system2(cmd0, args, env = env, stdout = outfile, stderr = outfile, :\n",
      "“system call failed: Impossibile allocare memoria”Warning message in system2(cmd0, args, env = env, stdout = outfile, stderr = outfile, :\n",
      "“error in running command”Warning message in install.packages(\"mapplots\"):\n",
      "“installation of package ‘mapplots’ had non-zero exit status”Updating HTML index of packages in '.Library'\n",
      "Making 'packages.html' ... done\n"
     ]
    }
   ],
   "source": [
    "ins"
   ]
  },
  {
   "cell_type": "code",
   "execution_count": null,
   "metadata": {},
   "outputs": [],
   "source": [
    "ArchiParams_RMS <- flags(\n",
    "    flag_numeric(\"dropout1\"   , 0.3                   ),\n",
    "    flag_numeric(\"dropout2\"   , 0.3                   ),\n",
    "    flag_numeric(\"dropout3\"   , 0.1                   ),\n",
    "    flag_numeric(\"unit1\"      , 64                    ),\n",
    "    flag_numeric(\"unit2\"      , 128                   ),\n",
    "    flag_numeric(\"unit3\"      , 32                    ),\n",
    "    flag_numeric(\"nFeat\"      , length(sel_features)  ),\n",
    "    flag_numeric(\"l1_coeff\"   , 1e-5                  ),\n",
    "    flag_numeric(\"l2_coeff\"   , 1e-4                  ),\n",
    "    flag_string (\"epochs\"     , 10                    ),  \n",
    "    flag_string (\"batch_size\" , 5                     ),\n",
    "    flag_numeric(\"n_bkg\"      , 1000                  ),\n",
    "    flag_numeric(\"n_sig\"      , 1090                  ),\n",
    "    flag_string (\"act_dense\"  , \"relu\"                ),\n",
    "    flag_string (\"act_final\"  , \"hard_sigmoid\"        ),\n",
    "    flag_string (\"loss\"       , \"binary_crossentropy\" ),\n",
    "    flag_string (\"optimizer\"  , \"rmsprop\"             ),\n",
    "    flag_numeric(\"lr\"         , 0.003                 ), #learing rate for the optimizers\n",
    "    flag_numeric(\"rho\"        , 0.9                   ), #rms rho\n",
    "    flag_numeric(\"beta_1\"     , 0.9                   ), #beta1 adam/nadam\n",
    "    flag_numeric(\"beta_2\"     , 0.999                 ), #beta2 adam/nadam\n",
    "    flag_numeric(\"momentum\"   , 0.9                   ) #momentum sgd\n",
    ")\n",
    "\n",
    "ArchiParams_ADAM <- flags(\n",
    "    flag_numeric(\"dropout1\"   , 0.3                   ),\n",
    "    flag_numeric(\"dropout2\"   , 0.3                   ),\n",
    "    flag_numeric(\"dropout3\"   , 0.1                   ),\n",
    "    flag_numeric(\"unit1\"      , 64                    ),\n",
    "    flag_numeric(\"unit2\"      , 128                   ),\n",
    "    flag_numeric(\"unit3\"      , 32                    ),\n",
    "    flag_numeric(\"nFeat\"      , length(sel_features)  ),\n",
    "    flag_numeric(\"l1_coeff\"   , 1e-5                  ),\n",
    "    flag_numeric(\"l2_coeff\"   , 1e-2                  ),\n",
    "    flag_string (\"epochs\"     , 10                    ),  \n",
    "    flag_string (\"batch_size\" , 5                     ),\n",
    "    flag_numeric(\"n_bkg\"      , 1000                  ),\n",
    "    flag_numeric(\"n_sig\"      , 1090                  ),\n",
    "    flag_string (\"act_dense\"  , \"relu\"                ),\n",
    "    flag_string (\"act_final\"  , \"hard_sigmoid\"        ),\n",
    "    flag_string (\"loss\"       , \"binary_crossentropy\" ),\n",
    "    flag_string (\"optimizer\"  , \"adam\"                ),\n",
    "    flag_numeric(\"lr\"         , 0.001                 ), #learing rate for the optimizers\n",
    "    flag_numeric(\"rho\"        , 0.9                   ), #rms rho\n",
    "    flag_numeric(\"beta_1\"     , 0.93                  ), #beta1 adam/nadam\n",
    "    flag_numeric(\"beta_2\"     , 0.995                 ), #beta2 adam/nadam\n",
    "    flag_numeric(\"momentum\"   , 0.9                   ) #momentum sgd\n",
    ")\n",
    "\n",
    "\n",
    "ArchiParams_NADAM <- flags(\n",
    "    flag_numeric(\"dropout1\"   , 0.3                   ),\n",
    "    flag_numeric(\"dropout2\"   , 0.3                   ),\n",
    "    flag_numeric(\"dropout3\"   , 0.1                   ),\n",
    "    flag_numeric(\"unit1\"      , 64                    ),\n",
    "    flag_numeric(\"unit2\"      , 128                   ),\n",
    "    flag_numeric(\"unit3\"      , 32                    ),\n",
    "    flag_numeric(\"nFeat\"      , length(sel_features)  ),\n",
    "    flag_numeric(\"l1_coeff\"   , 1e-4                  ),\n",
    "    flag_numeric(\"l2_coeff\"   , 1e-4                  ),\n",
    "    flag_string (\"epochs\"     , 10                    ),  \n",
    "    flag_string (\"batch_size\" , 5                     ),\n",
    "    flag_numeric(\"n_bkg\"      , 1000                  ),\n",
    "    flag_numeric(\"n_sig\"      , 1090                  ),\n",
    "    flag_string (\"act_dense\"  , \"relu\"                ),\n",
    "    flag_string (\"act_final\"  , \"hard_sigmoid\"        ),\n",
    "    flag_string (\"loss\"       , \"binary_crossentropy\" ),\n",
    "    flag_string (\"optimizer\"  , \"nadam\"               ),\n",
    "    flag_numeric(\"lr\"         , 5e-4                  ), #learing rate for the optimizers\n",
    "    flag_numeric(\"rho\"        , 0.9                   ), #rms rho\n",
    "    flag_numeric(\"beta_1\"     , 0.9                   ), #beta1 adam/nadam\n",
    "    flag_numeric(\"beta_2\"     , 0.995                 ), #beta2 adam/nadam\n",
    "    flag_numeric(\"momentum\"   , 0.9                   ) #momentum sgd\n",
    ")\n",
    "\n",
    "ArchiParams_SGD <- flags(\n",
    "    flag_numeric(\"dropout1\"   , 0.3                   ),\n",
    "    flag_numeric(\"dropout2\"   , 0.3                   ),\n",
    "    flag_numeric(\"dropout3\"   , 0.1                   ),\n",
    "    flag_numeric(\"unit1\"      , 64                    ),\n",
    "    flag_numeric(\"unit2\"      , 128                   ),\n",
    "    flag_numeric(\"unit3\"      , 32                    ),\n",
    "    flag_numeric(\"nFeat\"      , length(sel_features)  ),\n",
    "    flag_numeric(\"l1_coeff\"   , 1e-5                  ),\n",
    "    flag_numeric(\"l2_coeff\"   , 1e-4                  ),\n",
    "    flag_string (\"epochs\"     , 10                    ),  \n",
    "    flag_string (\"batch_size\" , 5                     ),\n",
    "    flag_numeric(\"n_bkg\"      , 1000                  ),\n",
    "    flag_numeric(\"n_sig\"      , 1090                  ),\n",
    "    flag_string (\"act_dense\"  , \"relu\"                ),\n",
    "    flag_string (\"act_final\"  , \"hard_sigmoid\"        ),\n",
    "    flag_string (\"loss\"       , \"binary_crossentropy\" ),\n",
    "    flag_string (\"optimizer\"  , \"sgd\"                 ),\n",
    "    flag_numeric(\"lr\"         , 0.003                 ), #learing rate for the optimizers\n",
    "    flag_numeric(\"rho\"        , 0.9                   ), #rms rho\n",
    "    flag_numeric(\"beta_1\"     , 0.9                   ), #beta1 adam/nadam\n",
    "    flag_numeric(\"beta_2\"     , 0.999                 ), #beta2 adam/nadam\n",
    "    flag_numeric(\"momentum\"   , 0.9                   ) #momentum sgd\n",
    ")"
   ]
  },
  {
   "cell_type": "code",
   "execution_count": null,
   "metadata": {},
   "outputs": [],
   "source": [
    "model <- Archi_build_model(ArchiParams_TunedLayers)\n",
    "data  <- get_train_data(1000) \n",
    "history  <- model %>% fit (data$x_train, data$y_train, verbose=2,\n",
    "                     epochs=10, batch_size=5, validation_split=0.2)\n",
    "model %>% evaluate(x_test, y_test)\n",
    "plot(history)\n",
    "y_cut_lhcb_pred <- model %>% predict(x_cut_lhcb)"
   ]
  },
  {
   "cell_type": "code",
   "execution_count": null,
   "metadata": {},
   "outputs": [],
   "source": [
    "hist(data.cutted.lhcb$Lambda_b0_MM_F[y_cut_lhcb_pred>0.0],   breaks=100, col=\"firebrick3\", xlab=\"Lb0 Mass\", main=\"LHCb data\",  probability=FALSE)\n",
    "hist(data.cutted.lhcb$Lambda_b0_MM_F[y_cut_lhcb_pred>0.9973], breaks=100, add=TRUE, col='blue')\n"
   ]
  }
 ],
 "metadata": {
  "kernelspec": {
   "display_name": "R",
   "language": "R",
   "name": "ir"
  },
  "language_info": {
   "codemirror_mode": "r",
   "file_extension": ".r",
   "mimetype": "text/x-r-source",
   "name": "R",
   "pygments_lexer": "r",
   "version": "3.6.1"
  }
 },
 "nbformat": 4,
 "nbformat_minor": 4
}
